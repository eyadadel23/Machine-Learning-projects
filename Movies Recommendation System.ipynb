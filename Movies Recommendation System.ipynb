{
 "cells": [
  {
   "cell_type": "markdown",
   "id": "7db58ce0",
   "metadata": {},
   "source": []
  },
  {
   "cell_type": "markdown",
   "id": "06c9af48",
   "metadata": {},
   "source": [
    "### Importing Libraries:"
   ]
  },
  {
   "cell_type": "code",
   "execution_count": 1,
   "id": "312c57a9",
   "metadata": {},
   "outputs": [],
   "source": [
    "import numpy as np\n",
    "import pandas as pd\n",
    "import difflib  # this used to find the closest mach if the user enterd the movie name wrong.\n",
    "from sklearn.feature_extraction.text import TfidfVectorizer # this used to convert text to numbers\n",
    "from sklearn.metrics.pairwise import cosine_similarity # this is the recommendation algorithm"
   ]
  },
  {
   "cell_type": "markdown",
   "id": "e1635d5c",
   "metadata": {},
   "source": [
    "### Loading the data:"
   ]
  },
  {
   "cell_type": "code",
   "execution_count": 2,
   "id": "56d1c460",
   "metadata": {},
   "outputs": [
    {
     "data": {
      "text/html": [
       "<div>\n",
       "<style scoped>\n",
       "    .dataframe tbody tr th:only-of-type {\n",
       "        vertical-align: middle;\n",
       "    }\n",
       "\n",
       "    .dataframe tbody tr th {\n",
       "        vertical-align: top;\n",
       "    }\n",
       "\n",
       "    .dataframe thead th {\n",
       "        text-align: right;\n",
       "    }\n",
       "</style>\n",
       "<table border=\"1\" class=\"dataframe\">\n",
       "  <thead>\n",
       "    <tr style=\"text-align: right;\">\n",
       "      <th></th>\n",
       "      <th>index</th>\n",
       "      <th>budget</th>\n",
       "      <th>genres</th>\n",
       "      <th>homepage</th>\n",
       "      <th>id</th>\n",
       "      <th>keywords</th>\n",
       "      <th>original_language</th>\n",
       "      <th>original_title</th>\n",
       "      <th>overview</th>\n",
       "      <th>popularity</th>\n",
       "      <th>...</th>\n",
       "      <th>runtime</th>\n",
       "      <th>spoken_languages</th>\n",
       "      <th>status</th>\n",
       "      <th>tagline</th>\n",
       "      <th>title</th>\n",
       "      <th>vote_average</th>\n",
       "      <th>vote_count</th>\n",
       "      <th>cast</th>\n",
       "      <th>crew</th>\n",
       "      <th>director</th>\n",
       "    </tr>\n",
       "  </thead>\n",
       "  <tbody>\n",
       "    <tr>\n",
       "      <th>0</th>\n",
       "      <td>0</td>\n",
       "      <td>237000000</td>\n",
       "      <td>Action Adventure Fantasy Science Fiction</td>\n",
       "      <td>http://www.avatarmovie.com/</td>\n",
       "      <td>19995</td>\n",
       "      <td>culture clash future space war space colony so...</td>\n",
       "      <td>en</td>\n",
       "      <td>Avatar</td>\n",
       "      <td>In the 22nd century, a paraplegic Marine is di...</td>\n",
       "      <td>150.437577</td>\n",
       "      <td>...</td>\n",
       "      <td>162.0</td>\n",
       "      <td>[{\"iso_639_1\": \"en\", \"name\": \"English\"}, {\"iso...</td>\n",
       "      <td>Released</td>\n",
       "      <td>Enter the World of Pandora.</td>\n",
       "      <td>Avatar</td>\n",
       "      <td>7.2</td>\n",
       "      <td>11800</td>\n",
       "      <td>Sam Worthington Zoe Saldana Sigourney Weaver S...</td>\n",
       "      <td>[{'name': 'Stephen E. Rivkin', 'gender': 0, 'd...</td>\n",
       "      <td>James Cameron</td>\n",
       "    </tr>\n",
       "    <tr>\n",
       "      <th>1</th>\n",
       "      <td>1</td>\n",
       "      <td>300000000</td>\n",
       "      <td>Adventure Fantasy Action</td>\n",
       "      <td>http://disney.go.com/disneypictures/pirates/</td>\n",
       "      <td>285</td>\n",
       "      <td>ocean drug abuse exotic island east india trad...</td>\n",
       "      <td>en</td>\n",
       "      <td>Pirates of the Caribbean: At World's End</td>\n",
       "      <td>Captain Barbossa, long believed to be dead, ha...</td>\n",
       "      <td>139.082615</td>\n",
       "      <td>...</td>\n",
       "      <td>169.0</td>\n",
       "      <td>[{\"iso_639_1\": \"en\", \"name\": \"English\"}]</td>\n",
       "      <td>Released</td>\n",
       "      <td>At the end of the world, the adventure begins.</td>\n",
       "      <td>Pirates of the Caribbean: At World's End</td>\n",
       "      <td>6.9</td>\n",
       "      <td>4500</td>\n",
       "      <td>Johnny Depp Orlando Bloom Keira Knightley Stel...</td>\n",
       "      <td>[{'name': 'Dariusz Wolski', 'gender': 2, 'depa...</td>\n",
       "      <td>Gore Verbinski</td>\n",
       "    </tr>\n",
       "    <tr>\n",
       "      <th>2</th>\n",
       "      <td>2</td>\n",
       "      <td>245000000</td>\n",
       "      <td>Action Adventure Crime</td>\n",
       "      <td>http://www.sonypictures.com/movies/spectre/</td>\n",
       "      <td>206647</td>\n",
       "      <td>spy based on novel secret agent sequel mi6</td>\n",
       "      <td>en</td>\n",
       "      <td>Spectre</td>\n",
       "      <td>A cryptic message from Bond’s past sends him o...</td>\n",
       "      <td>107.376788</td>\n",
       "      <td>...</td>\n",
       "      <td>148.0</td>\n",
       "      <td>[{\"iso_639_1\": \"fr\", \"name\": \"Fran\\u00e7ais\"},...</td>\n",
       "      <td>Released</td>\n",
       "      <td>A Plan No One Escapes</td>\n",
       "      <td>Spectre</td>\n",
       "      <td>6.3</td>\n",
       "      <td>4466</td>\n",
       "      <td>Daniel Craig Christoph Waltz L\\u00e9a Seydoux ...</td>\n",
       "      <td>[{'name': 'Thomas Newman', 'gender': 2, 'depar...</td>\n",
       "      <td>Sam Mendes</td>\n",
       "    </tr>\n",
       "    <tr>\n",
       "      <th>3</th>\n",
       "      <td>3</td>\n",
       "      <td>250000000</td>\n",
       "      <td>Action Crime Drama Thriller</td>\n",
       "      <td>http://www.thedarkknightrises.com/</td>\n",
       "      <td>49026</td>\n",
       "      <td>dc comics crime fighter terrorist secret ident...</td>\n",
       "      <td>en</td>\n",
       "      <td>The Dark Knight Rises</td>\n",
       "      <td>Following the death of District Attorney Harve...</td>\n",
       "      <td>112.312950</td>\n",
       "      <td>...</td>\n",
       "      <td>165.0</td>\n",
       "      <td>[{\"iso_639_1\": \"en\", \"name\": \"English\"}]</td>\n",
       "      <td>Released</td>\n",
       "      <td>The Legend Ends</td>\n",
       "      <td>The Dark Knight Rises</td>\n",
       "      <td>7.6</td>\n",
       "      <td>9106</td>\n",
       "      <td>Christian Bale Michael Caine Gary Oldman Anne ...</td>\n",
       "      <td>[{'name': 'Hans Zimmer', 'gender': 2, 'departm...</td>\n",
       "      <td>Christopher Nolan</td>\n",
       "    </tr>\n",
       "    <tr>\n",
       "      <th>4</th>\n",
       "      <td>4</td>\n",
       "      <td>260000000</td>\n",
       "      <td>Action Adventure Science Fiction</td>\n",
       "      <td>http://movies.disney.com/john-carter</td>\n",
       "      <td>49529</td>\n",
       "      <td>based on novel mars medallion space travel pri...</td>\n",
       "      <td>en</td>\n",
       "      <td>John Carter</td>\n",
       "      <td>John Carter is a war-weary, former military ca...</td>\n",
       "      <td>43.926995</td>\n",
       "      <td>...</td>\n",
       "      <td>132.0</td>\n",
       "      <td>[{\"iso_639_1\": \"en\", \"name\": \"English\"}]</td>\n",
       "      <td>Released</td>\n",
       "      <td>Lost in our world, found in another.</td>\n",
       "      <td>John Carter</td>\n",
       "      <td>6.1</td>\n",
       "      <td>2124</td>\n",
       "      <td>Taylor Kitsch Lynn Collins Samantha Morton Wil...</td>\n",
       "      <td>[{'name': 'Andrew Stanton', 'gender': 2, 'depa...</td>\n",
       "      <td>Andrew Stanton</td>\n",
       "    </tr>\n",
       "  </tbody>\n",
       "</table>\n",
       "<p>5 rows × 24 columns</p>\n",
       "</div>"
      ],
      "text/plain": [
       "   index     budget                                    genres  \\\n",
       "0      0  237000000  Action Adventure Fantasy Science Fiction   \n",
       "1      1  300000000                  Adventure Fantasy Action   \n",
       "2      2  245000000                    Action Adventure Crime   \n",
       "3      3  250000000               Action Crime Drama Thriller   \n",
       "4      4  260000000          Action Adventure Science Fiction   \n",
       "\n",
       "                                       homepage      id  \\\n",
       "0                   http://www.avatarmovie.com/   19995   \n",
       "1  http://disney.go.com/disneypictures/pirates/     285   \n",
       "2   http://www.sonypictures.com/movies/spectre/  206647   \n",
       "3            http://www.thedarkknightrises.com/   49026   \n",
       "4          http://movies.disney.com/john-carter   49529   \n",
       "\n",
       "                                            keywords original_language  \\\n",
       "0  culture clash future space war space colony so...                en   \n",
       "1  ocean drug abuse exotic island east india trad...                en   \n",
       "2         spy based on novel secret agent sequel mi6                en   \n",
       "3  dc comics crime fighter terrorist secret ident...                en   \n",
       "4  based on novel mars medallion space travel pri...                en   \n",
       "\n",
       "                             original_title  \\\n",
       "0                                    Avatar   \n",
       "1  Pirates of the Caribbean: At World's End   \n",
       "2                                   Spectre   \n",
       "3                     The Dark Knight Rises   \n",
       "4                               John Carter   \n",
       "\n",
       "                                            overview  popularity  ... runtime  \\\n",
       "0  In the 22nd century, a paraplegic Marine is di...  150.437577  ...   162.0   \n",
       "1  Captain Barbossa, long believed to be dead, ha...  139.082615  ...   169.0   \n",
       "2  A cryptic message from Bond’s past sends him o...  107.376788  ...   148.0   \n",
       "3  Following the death of District Attorney Harve...  112.312950  ...   165.0   \n",
       "4  John Carter is a war-weary, former military ca...   43.926995  ...   132.0   \n",
       "\n",
       "                                    spoken_languages    status  \\\n",
       "0  [{\"iso_639_1\": \"en\", \"name\": \"English\"}, {\"iso...  Released   \n",
       "1           [{\"iso_639_1\": \"en\", \"name\": \"English\"}]  Released   \n",
       "2  [{\"iso_639_1\": \"fr\", \"name\": \"Fran\\u00e7ais\"},...  Released   \n",
       "3           [{\"iso_639_1\": \"en\", \"name\": \"English\"}]  Released   \n",
       "4           [{\"iso_639_1\": \"en\", \"name\": \"English\"}]  Released   \n",
       "\n",
       "                                          tagline  \\\n",
       "0                     Enter the World of Pandora.   \n",
       "1  At the end of the world, the adventure begins.   \n",
       "2                           A Plan No One Escapes   \n",
       "3                                 The Legend Ends   \n",
       "4            Lost in our world, found in another.   \n",
       "\n",
       "                                      title vote_average vote_count  \\\n",
       "0                                    Avatar          7.2      11800   \n",
       "1  Pirates of the Caribbean: At World's End          6.9       4500   \n",
       "2                                   Spectre          6.3       4466   \n",
       "3                     The Dark Knight Rises          7.6       9106   \n",
       "4                               John Carter          6.1       2124   \n",
       "\n",
       "                                                cast  \\\n",
       "0  Sam Worthington Zoe Saldana Sigourney Weaver S...   \n",
       "1  Johnny Depp Orlando Bloom Keira Knightley Stel...   \n",
       "2  Daniel Craig Christoph Waltz L\\u00e9a Seydoux ...   \n",
       "3  Christian Bale Michael Caine Gary Oldman Anne ...   \n",
       "4  Taylor Kitsch Lynn Collins Samantha Morton Wil...   \n",
       "\n",
       "                                                crew           director  \n",
       "0  [{'name': 'Stephen E. Rivkin', 'gender': 0, 'd...      James Cameron  \n",
       "1  [{'name': 'Dariusz Wolski', 'gender': 2, 'depa...     Gore Verbinski  \n",
       "2  [{'name': 'Thomas Newman', 'gender': 2, 'depar...         Sam Mendes  \n",
       "3  [{'name': 'Hans Zimmer', 'gender': 2, 'departm...  Christopher Nolan  \n",
       "4  [{'name': 'Andrew Stanton', 'gender': 2, 'depa...     Andrew Stanton  \n",
       "\n",
       "[5 rows x 24 columns]"
      ]
     },
     "execution_count": 2,
     "metadata": {},
     "output_type": "execute_result"
    }
   ],
   "source": [
    "df = pd.read_csv(\"movies.csv\")\n",
    "df.head() #print first 5 rows"
   ]
  },
  {
   "cell_type": "markdown",
   "id": "17a50aab",
   "metadata": {},
   "source": [
    "### Data Pre_processing & Cleaning"
   ]
  },
  {
   "cell_type": "code",
   "execution_count": 3,
   "id": "10019f2b",
   "metadata": {},
   "outputs": [
    {
     "data": {
      "text/plain": [
       "(4803, 24)"
      ]
     },
     "execution_count": 3,
     "metadata": {},
     "output_type": "execute_result"
    }
   ],
   "source": [
    "# check how many rows and columns we have:\n",
    "df.shape"
   ]
  },
  {
   "cell_type": "code",
   "execution_count": 4,
   "id": "c2e291c8",
   "metadata": {},
   "outputs": [
    {
     "data": {
      "text/html": [
       "<div>\n",
       "<style scoped>\n",
       "    .dataframe tbody tr th:only-of-type {\n",
       "        vertical-align: middle;\n",
       "    }\n",
       "\n",
       "    .dataframe tbody tr th {\n",
       "        vertical-align: top;\n",
       "    }\n",
       "\n",
       "    .dataframe thead th {\n",
       "        text-align: right;\n",
       "    }\n",
       "</style>\n",
       "<table border=\"1\" class=\"dataframe\">\n",
       "  <thead>\n",
       "    <tr style=\"text-align: right;\">\n",
       "      <th></th>\n",
       "      <th>index</th>\n",
       "      <th>budget</th>\n",
       "      <th>id</th>\n",
       "      <th>popularity</th>\n",
       "      <th>revenue</th>\n",
       "      <th>runtime</th>\n",
       "      <th>vote_average</th>\n",
       "      <th>vote_count</th>\n",
       "    </tr>\n",
       "  </thead>\n",
       "  <tbody>\n",
       "    <tr>\n",
       "      <th>count</th>\n",
       "      <td>4803.0</td>\n",
       "      <td>4803.0</td>\n",
       "      <td>4803.0</td>\n",
       "      <td>4803.0</td>\n",
       "      <td>4.803000e+03</td>\n",
       "      <td>4801.0</td>\n",
       "      <td>4803.0</td>\n",
       "      <td>4803.0</td>\n",
       "    </tr>\n",
       "    <tr>\n",
       "      <th>mean</th>\n",
       "      <td>2401.0</td>\n",
       "      <td>29045040.0</td>\n",
       "      <td>57165.0</td>\n",
       "      <td>21.0</td>\n",
       "      <td>8.226064e+07</td>\n",
       "      <td>107.0</td>\n",
       "      <td>6.0</td>\n",
       "      <td>690.0</td>\n",
       "    </tr>\n",
       "    <tr>\n",
       "      <th>std</th>\n",
       "      <td>1387.0</td>\n",
       "      <td>40722391.0</td>\n",
       "      <td>88695.0</td>\n",
       "      <td>32.0</td>\n",
       "      <td>1.628571e+08</td>\n",
       "      <td>23.0</td>\n",
       "      <td>1.0</td>\n",
       "      <td>1235.0</td>\n",
       "    </tr>\n",
       "    <tr>\n",
       "      <th>min</th>\n",
       "      <td>0.0</td>\n",
       "      <td>0.0</td>\n",
       "      <td>5.0</td>\n",
       "      <td>0.0</td>\n",
       "      <td>0.000000e+00</td>\n",
       "      <td>0.0</td>\n",
       "      <td>0.0</td>\n",
       "      <td>0.0</td>\n",
       "    </tr>\n",
       "    <tr>\n",
       "      <th>25%</th>\n",
       "      <td>1200.0</td>\n",
       "      <td>790000.0</td>\n",
       "      <td>9014.0</td>\n",
       "      <td>5.0</td>\n",
       "      <td>0.000000e+00</td>\n",
       "      <td>94.0</td>\n",
       "      <td>6.0</td>\n",
       "      <td>54.0</td>\n",
       "    </tr>\n",
       "    <tr>\n",
       "      <th>50%</th>\n",
       "      <td>2401.0</td>\n",
       "      <td>15000000.0</td>\n",
       "      <td>14629.0</td>\n",
       "      <td>13.0</td>\n",
       "      <td>1.917000e+07</td>\n",
       "      <td>103.0</td>\n",
       "      <td>6.0</td>\n",
       "      <td>235.0</td>\n",
       "    </tr>\n",
       "    <tr>\n",
       "      <th>75%</th>\n",
       "      <td>3602.0</td>\n",
       "      <td>40000000.0</td>\n",
       "      <td>58610.0</td>\n",
       "      <td>28.0</td>\n",
       "      <td>9.291719e+07</td>\n",
       "      <td>118.0</td>\n",
       "      <td>7.0</td>\n",
       "      <td>737.0</td>\n",
       "    </tr>\n",
       "    <tr>\n",
       "      <th>max</th>\n",
       "      <td>4802.0</td>\n",
       "      <td>380000000.0</td>\n",
       "      <td>459488.0</td>\n",
       "      <td>876.0</td>\n",
       "      <td>2.787965e+09</td>\n",
       "      <td>338.0</td>\n",
       "      <td>10.0</td>\n",
       "      <td>13752.0</td>\n",
       "    </tr>\n",
       "  </tbody>\n",
       "</table>\n",
       "</div>"
      ],
      "text/plain": [
       "        index       budget        id  popularity       revenue  runtime  \\\n",
       "count  4803.0       4803.0    4803.0      4803.0  4.803000e+03   4801.0   \n",
       "mean   2401.0   29045040.0   57165.0        21.0  8.226064e+07    107.0   \n",
       "std    1387.0   40722391.0   88695.0        32.0  1.628571e+08     23.0   \n",
       "min       0.0          0.0       5.0         0.0  0.000000e+00      0.0   \n",
       "25%    1200.0     790000.0    9014.0         5.0  0.000000e+00     94.0   \n",
       "50%    2401.0   15000000.0   14629.0        13.0  1.917000e+07    103.0   \n",
       "75%    3602.0   40000000.0   58610.0        28.0  9.291719e+07    118.0   \n",
       "max    4802.0  380000000.0  459488.0       876.0  2.787965e+09    338.0   \n",
       "\n",
       "       vote_average  vote_count  \n",
       "count        4803.0      4803.0  \n",
       "mean            6.0       690.0  \n",
       "std             1.0      1235.0  \n",
       "min             0.0         0.0  \n",
       "25%             6.0        54.0  \n",
       "50%             6.0       235.0  \n",
       "75%             7.0       737.0  \n",
       "max            10.0     13752.0  "
      ]
     },
     "execution_count": 4,
     "metadata": {},
     "output_type": "execute_result"
    }
   ],
   "source": [
    "# getting a statistical summary:\n",
    "df.describe().round()"
   ]
  },
  {
   "cell_type": "code",
   "execution_count": 5,
   "id": "a93f7e2e",
   "metadata": {},
   "outputs": [
    {
     "name": "stdout",
     "output_type": "stream",
     "text": [
      "<class 'pandas.core.frame.DataFrame'>\n",
      "RangeIndex: 4803 entries, 0 to 4802\n",
      "Data columns (total 24 columns):\n",
      " #   Column                Non-Null Count  Dtype  \n",
      "---  ------                --------------  -----  \n",
      " 0   index                 4803 non-null   int64  \n",
      " 1   budget                4803 non-null   int64  \n",
      " 2   genres                4775 non-null   object \n",
      " 3   homepage              1712 non-null   object \n",
      " 4   id                    4803 non-null   int64  \n",
      " 5   keywords              4391 non-null   object \n",
      " 6   original_language     4803 non-null   object \n",
      " 7   original_title        4803 non-null   object \n",
      " 8   overview              4800 non-null   object \n",
      " 9   popularity            4803 non-null   float64\n",
      " 10  production_companies  4803 non-null   object \n",
      " 11  production_countries  4803 non-null   object \n",
      " 12  release_date          4802 non-null   object \n",
      " 13  revenue               4803 non-null   int64  \n",
      " 14  runtime               4801 non-null   float64\n",
      " 15  spoken_languages      4803 non-null   object \n",
      " 16  status                4803 non-null   object \n",
      " 17  tagline               3959 non-null   object \n",
      " 18  title                 4803 non-null   object \n",
      " 19  vote_average          4803 non-null   float64\n",
      " 20  vote_count            4803 non-null   int64  \n",
      " 21  cast                  4760 non-null   object \n",
      " 22  crew                  4803 non-null   object \n",
      " 23  director              4773 non-null   object \n",
      "dtypes: float64(3), int64(5), object(16)\n",
      "memory usage: 900.7+ KB\n"
     ]
    }
   ],
   "source": [
    "# getting more information about the data:\n",
    "df.info()"
   ]
  },
  {
   "cell_type": "code",
   "execution_count": 6,
   "id": "c97a70e6",
   "metadata": {},
   "outputs": [],
   "source": [
    "# check for missing values:\n",
    "#df.isnull().sum()"
   ]
  },
  {
   "cell_type": "code",
   "execution_count": 7,
   "id": "98facd0b",
   "metadata": {},
   "outputs": [],
   "source": [
    "# drop missing values:\n",
    "#df.dropna(inplace=True)\n",
    "\n",
    "#check for missing values again:\n",
    "#df.isnull().sum()"
   ]
  },
  {
   "cell_type": "code",
   "execution_count": 8,
   "id": "ecc690af",
   "metadata": {},
   "outputs": [
    {
     "data": {
      "text/plain": [
       "0"
      ]
     },
     "execution_count": 8,
     "metadata": {},
     "output_type": "execute_result"
    }
   ],
   "source": [
    "# check for duplicated values:\n",
    "df.duplicated().sum()"
   ]
  },
  {
   "cell_type": "markdown",
   "id": "51d64a46",
   "metadata": {},
   "source": [
    "### Features selection & processing"
   ]
  },
  {
   "cell_type": "code",
   "execution_count": 9,
   "id": "3a5b2647",
   "metadata": {},
   "outputs": [
    {
     "data": {
      "text/plain": [
       "Index(['index', 'budget', 'genres', 'homepage', 'id', 'keywords',\n",
       "       'original_language', 'original_title', 'overview', 'popularity',\n",
       "       'production_companies', 'production_countries', 'release_date',\n",
       "       'revenue', 'runtime', 'spoken_languages', 'status', 'tagline', 'title',\n",
       "       'vote_average', 'vote_count', 'cast', 'crew', 'director'],\n",
       "      dtype='object')"
      ]
     },
     "execution_count": 9,
     "metadata": {},
     "output_type": "execute_result"
    }
   ],
   "source": [
    "df.columns"
   ]
  },
  {
   "cell_type": "code",
   "execution_count": 10,
   "id": "969ef270",
   "metadata": {},
   "outputs": [
    {
     "name": "stdout",
     "output_type": "stream",
     "text": [
      "['genres', 'keywords', 'tagline', 'cast', 'director', 'overview', 'production_companies']\n"
     ]
    }
   ],
   "source": [
    "# now we select the most relevant columns or features for our recommendation system:\n",
    "\n",
    "selected_features = [\"genres\",\"keywords\",\"tagline\",\"cast\",\"director\",\"overview\",\"production_companies\"]\n",
    "print(selected_features)"
   ]
  },
  {
   "cell_type": "code",
   "execution_count": 11,
   "id": "4a7307d3",
   "metadata": {},
   "outputs": [],
   "source": [
    "# fulling missing null values with null string in the choosen columns: \n",
    "\n",
    "for feature in selected_features:\n",
    "    df[feature] = df[feature].fillna(\"\")"
   ]
  },
  {
   "cell_type": "code",
   "execution_count": 12,
   "id": "2f3a1ccc",
   "metadata": {},
   "outputs": [
    {
     "name": "stdout",
     "output_type": "stream",
     "text": [
      "0       Action Adventure Fantasy Science Fiction cultu...\n",
      "1       Adventure Fantasy Action ocean drug abuse exot...\n",
      "2       Action Adventure Crime spy based on novel secr...\n",
      "3       Action Crime Drama Thriller dc comics crime fi...\n",
      "4       Action Adventure Science Fiction based on nove...\n",
      "                              ...                        \n",
      "4798    Action Crime Thriller united states\\u2013mexic...\n",
      "4799    Comedy Romance  A newlywed couple's honeymoon ...\n",
      "4800    Comedy Drama Romance TV Movie date love at fir...\n",
      "4801      A New Yorker in Shanghai Daniel Henney Eliza...\n",
      "4802    Documentary obsession camcorder crush dream gi...\n",
      "Length: 4803, dtype: object\n"
     ]
    }
   ],
   "source": [
    "# combine all selected features togther:\n",
    "\n",
    "combined_features = df[\"genres\"]+\" \"+df[\"keywords\"]+\" \"+df[\"tagline\"]+\" \"+df[\"cast\"]+\" \"+df[\"director\"]+\" \"+df[\"overview\"]+\" \"+df[\"production_companies\"]\n",
    "\n",
    "print(combined_features)"
   ]
  },
  {
   "cell_type": "code",
   "execution_count": 13,
   "id": "768a67ab",
   "metadata": {},
   "outputs": [
    {
     "name": "stdout",
     "output_type": "stream",
     "text": [
      "  (0, 3920)\t0.17327889069926256\n",
      "  (0, 22268)\t0.17327889069926256\n",
      "  (0, 3313)\t0.12136395207127132\n",
      "  (0, 14702)\t0.1048024129681479\n",
      "  (0, 13974)\t0.11197305145417999\n",
      "  (0, 2587)\t0.09176446226126546\n",
      "  (0, 11621)\t0.07749073918929551\n",
      "  (0, 16298)\t0.0783106976007871\n",
      "  (0, 35221)\t0.09077542775554663\n",
      "  (0, 2466)\t0.13699190582135137\n",
      "  (0, 19270)\t0.09702793745452735\n",
      "  (0, 26790)\t0.11197305145417999\n",
      "  (0, 15793)\t0.10862986849351187\n",
      "  (0, 19689)\t0.12940567781728674\n",
      "  (0, 25140)\t0.09692673052493186\n",
      "  (0, 10651)\t0.14850917004238112\n",
      "  (0, 6033)\t0.11053343245396427\n",
      "  (0, 6280)\t0.047391309353417795\n",
      "  (0, 28253)\t0.14979788486799298\n",
      "  (0, 6321)\t0.02866019019358485\n",
      "  (0, 26209)\t0.1450336315673668\n",
      "  (0, 16144)\t0.12459035683599573\n",
      "  (0, 8179)\t0.08964315446436125\n",
      "  (0, 34673)\t0.13050571897807273\n",
      "  (0, 7875)\t0.08821682148183961\n",
      "  :\t:\n",
      "  (4802, 26024)\t0.0553626524377205\n",
      "  (4802, 37761)\t0.0571114479660939\n",
      "  (4802, 31401)\t0.047163087925317385\n",
      "  (4802, 18483)\t0.07763892028464114\n",
      "  (4802, 18267)\t0.10175660085342444\n",
      "  (4802, 37170)\t0.0348478192507473\n",
      "  (4802, 18684)\t0.027925737814303058\n",
      "  (4802, 25428)\t0.039504090271885624\n",
      "  (4802, 21840)\t0.07509347441376003\n",
      "  (4802, 37767)\t0.05561916776486016\n",
      "  (4802, 9432)\t0.036510959311784406\n",
      "  (4802, 16172)\t0.031809954516465296\n",
      "  (4802, 16501)\t0.036624245408408265\n",
      "  (4802, 30978)\t0.07847118197264775\n",
      "  (4802, 15842)\t0.03337688856152953\n",
      "  (4802, 18155)\t0.041055391855159225\n",
      "  (4802, 26093)\t0.04108907210877432\n",
      "  (4802, 14702)\t0.0359687485223222\n",
      "  (4802, 19270)\t0.03330050695495144\n",
      "  (4802, 25140)\t0.03326577219554811\n",
      "  (4802, 6321)\t0.01967266104814373\n",
      "  (4802, 26090)\t0.03030298509614414\n",
      "  (4802, 34545)\t0.03828219799632508\n",
      "  (4802, 19505)\t0.022506962409203152\n",
      "  (4802, 34236)\t0.034124631297032866\n"
     ]
    }
   ],
   "source": [
    "# now converting the text data to features vectors aka(numerical data):\n",
    "vectorizer  = TfidfVectorizer()\n",
    "\n",
    "vectoried_features = vectorizer.fit_transform(combined_features)\n",
    "\n",
    "print(vectoried_features)"
   ]
  },
  {
   "cell_type": "markdown",
   "id": "20d2072e",
   "metadata": {},
   "source": [
    "### Cosine Similarity"
   ]
  },
  {
   "cell_type": "code",
   "execution_count": 14,
   "id": "871d3018",
   "metadata": {},
   "outputs": [
    {
     "name": "stdout",
     "output_type": "stream",
     "text": [
      "[[1.         0.05596506 0.04124366 ... 0.03534218 0.0276738  0.0164769 ]\n",
      " [0.05596506 1.         0.04880217 ... 0.05138505 0.02877342 0.02877794]\n",
      " [0.04124366 0.04880217 1.         ... 0.03009804 0.04432021 0.01685446]\n",
      " ...\n",
      " [0.03534218 0.05138505 0.03009804 ... 1.         0.04074648 0.03655312]\n",
      " [0.0276738  0.02877342 0.04432021 ... 0.04074648 1.         0.02946268]\n",
      " [0.0164769  0.02877794 0.01685446 ... 0.03655312 0.02946268 1.        ]]\n"
     ]
    }
   ],
   "source": [
    "# now we will find the similarty score for each movie using cosine_similarty:\n",
    "\n",
    "# the cosine_similarty will try to compare each movie to all the other movies, and based on that return \n",
    "#>>> us a similarty score about how each movie is similar to the others based on that comparsion.\n",
    "\n",
    "similarty = cosine_similarity(vectoried_features)\n",
    "\n",
    "print(similarty) # this will print the similarty score"
   ]
  },
  {
   "cell_type": "markdown",
   "id": "649b8b45",
   "metadata": {},
   "source": [
    "### Movies recommendation system"
   ]
  },
  {
   "cell_type": "markdown",
   "id": "095c7f31",
   "metadata": {},
   "source": [
    "#### Here we will ask the user to give us a movie name, and we will suggest similar movies to him."
   ]
  },
  {
   "cell_type": "code",
   "execution_count": 15,
   "id": "4eb44b39",
   "metadata": {},
   "outputs": [],
   "source": [
    "def recommend_movie():\n",
    "    user_movie = input(\"Please enter your favourite movie name: \")\n",
    "    \n",
    "    # Creat a list contains the movies names from the dataset\n",
    "    movies_names = df[\"title\"].tolist()\n",
    "\n",
    "    # now finding the closest match for the user input\n",
    "    find_match = difflib.get_close_matches(user_movie,movies_names)\n",
    "    \n",
    "    #\"find_match\" gave us a list of movies similar to the user input, we will slice the first movie to find\n",
    "    #>>> it's index\n",
    "    movie_slice = find_match[0]\n",
    "\n",
    "    # now we find the index of the sliced movie\n",
    "\n",
    "    movie_index = df[df.title == movie_slice][\"index\"].values[0]\n",
    "    \n",
    "    #now we will find the similarty score for all movies compared to the sliced movie\n",
    "\n",
    "    sim_score  = list(enumerate(similarty[movie_index]))\n",
    "    \n",
    "    # now we sort the movies based on similarty score\n",
    "\n",
    "    sorted_sim = sorted(sim_score, key = lambda x:x[1], reverse=True)\n",
    "    \n",
    "    \n",
    "    # now we print a list of movies similar to the ser given movie\n",
    "\n",
    "    print(\"Movies suggested for you : \\n\")\n",
    "\n",
    "    i = 1 \n",
    "\n",
    "    for movie in sorted_sim:\n",
    "    \n",
    "        index = movie[0]\n",
    "    \n",
    "        # code below will find the movie title from it's index number\n",
    "        title_from_index = df[df.index==index][\"title\"].values[0]\n",
    "    \n",
    "        if (i<30):\n",
    "            print(i, \".\",title_from_index)\n",
    "            i= i+1"
   ]
  },
  {
   "cell_type": "code",
   "execution_count": 16,
   "id": "3bbbe284",
   "metadata": {},
   "outputs": [],
   "source": [
    "# uncomment to use the recommendation system\n",
    "\n",
    "#recommend_movie() #the recommendation system"
   ]
  },
  {
   "cell_type": "code",
   "execution_count": null,
   "id": "e96689ce",
   "metadata": {},
   "outputs": [],
   "source": []
  }
 ],
 "metadata": {
  "kernelspec": {
   "display_name": "Python 3 (ipykernel)",
   "language": "python",
   "name": "python3"
  },
  "language_info": {
   "codemirror_mode": {
    "name": "ipython",
    "version": 3
   },
   "file_extension": ".py",
   "mimetype": "text/x-python",
   "name": "python",
   "nbconvert_exporter": "python",
   "pygments_lexer": "ipython3",
   "version": "3.9.13"
  }
 },
 "nbformat": 4,
 "nbformat_minor": 5
}
