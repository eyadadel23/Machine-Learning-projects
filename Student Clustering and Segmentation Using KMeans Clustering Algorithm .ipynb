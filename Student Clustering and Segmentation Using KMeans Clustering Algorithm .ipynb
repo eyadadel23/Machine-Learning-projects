{
 "cells": [
  {
   "cell_type": "markdown",
   "id": "d116f59e",
   "metadata": {},
   "source": [
    "### Importing libraries:"
   ]
  },
  {
   "cell_type": "code",
   "execution_count": 1,
   "id": "2ba54f3d",
   "metadata": {},
   "outputs": [],
   "source": [
    "import pandas as pd\n",
    "import numpy as np\n",
    "import matplotlib.pyplot as plt\n",
    "%matplotlib inline\n",
    "plt.style.use('fivethirtyeight')\n",
    "import seaborn as sns\n",
    "from sklearn.cluster import KMeans \n",
    "from sklearn.preprocessing import MinMaxScaler "
   ]
  },
  {
   "cell_type": "code",
   "execution_count": 2,
   "id": "481b6e7c",
   "metadata": {},
   "outputs": [
    {
     "data": {
      "text/html": [
       "<div>\n",
       "<style scoped>\n",
       "    .dataframe tbody tr th:only-of-type {\n",
       "        vertical-align: middle;\n",
       "    }\n",
       "\n",
       "    .dataframe tbody tr th {\n",
       "        vertical-align: top;\n",
       "    }\n",
       "\n",
       "    .dataframe thead th {\n",
       "        text-align: right;\n",
       "    }\n",
       "</style>\n",
       "<table border=\"1\" class=\"dataframe\">\n",
       "  <thead>\n",
       "    <tr style=\"text-align: right;\">\n",
       "      <th></th>\n",
       "      <th>cgpa</th>\n",
       "      <th>iq</th>\n",
       "    </tr>\n",
       "  </thead>\n",
       "  <tbody>\n",
       "    <tr>\n",
       "      <th>0</th>\n",
       "      <td>5.13</td>\n",
       "      <td>88</td>\n",
       "    </tr>\n",
       "    <tr>\n",
       "      <th>1</th>\n",
       "      <td>5.90</td>\n",
       "      <td>113</td>\n",
       "    </tr>\n",
       "    <tr>\n",
       "      <th>2</th>\n",
       "      <td>8.36</td>\n",
       "      <td>93</td>\n",
       "    </tr>\n",
       "    <tr>\n",
       "      <th>3</th>\n",
       "      <td>8.27</td>\n",
       "      <td>97</td>\n",
       "    </tr>\n",
       "    <tr>\n",
       "      <th>4</th>\n",
       "      <td>5.45</td>\n",
       "      <td>110</td>\n",
       "    </tr>\n",
       "  </tbody>\n",
       "</table>\n",
       "</div>"
      ],
      "text/plain": [
       "   cgpa   iq\n",
       "0  5.13   88\n",
       "1  5.90  113\n",
       "2  8.36   93\n",
       "3  8.27   97\n",
       "4  5.45  110"
      ]
     },
     "execution_count": 2,
     "metadata": {},
     "output_type": "execute_result"
    }
   ],
   "source": [
    "# Loading our data:\n",
    "df = pd.read_csv(\"student_clustering.csv\")\n",
    "df.head()"
   ]
  },
  {
   "cell_type": "markdown",
   "id": "7960ed09",
   "metadata": {},
   "source": [
    "### Data preprocessing and analysis"
   ]
  },
  {
   "cell_type": "code",
   "execution_count": 3,
   "id": "06ce7d46",
   "metadata": {},
   "outputs": [
    {
     "data": {
      "text/plain": [
       "(200, 2)"
      ]
     },
     "execution_count": 3,
     "metadata": {},
     "output_type": "execute_result"
    }
   ],
   "source": [
    "# check for number of cloumns and rows:\n",
    "df.shape"
   ]
  },
  {
   "cell_type": "code",
   "execution_count": 4,
   "id": "a0f5083a",
   "metadata": {},
   "outputs": [
    {
     "data": {
      "text/html": [
       "<div>\n",
       "<style scoped>\n",
       "    .dataframe tbody tr th:only-of-type {\n",
       "        vertical-align: middle;\n",
       "    }\n",
       "\n",
       "    .dataframe tbody tr th {\n",
       "        vertical-align: top;\n",
       "    }\n",
       "\n",
       "    .dataframe thead th {\n",
       "        text-align: right;\n",
       "    }\n",
       "</style>\n",
       "<table border=\"1\" class=\"dataframe\">\n",
       "  <thead>\n",
       "    <tr style=\"text-align: right;\">\n",
       "      <th></th>\n",
       "      <th>cgpa</th>\n",
       "      <th>iq</th>\n",
       "    </tr>\n",
       "  </thead>\n",
       "  <tbody>\n",
       "    <tr>\n",
       "      <th>count</th>\n",
       "      <td>200.0</td>\n",
       "      <td>200.0</td>\n",
       "    </tr>\n",
       "    <tr>\n",
       "      <th>mean</th>\n",
       "      <td>7.0</td>\n",
       "      <td>102.0</td>\n",
       "    </tr>\n",
       "    <tr>\n",
       "      <th>std</th>\n",
       "      <td>2.0</td>\n",
       "      <td>12.0</td>\n",
       "    </tr>\n",
       "    <tr>\n",
       "      <th>min</th>\n",
       "      <td>5.0</td>\n",
       "      <td>83.0</td>\n",
       "    </tr>\n",
       "    <tr>\n",
       "      <th>25%</th>\n",
       "      <td>5.0</td>\n",
       "      <td>91.0</td>\n",
       "    </tr>\n",
       "    <tr>\n",
       "      <th>50%</th>\n",
       "      <td>7.0</td>\n",
       "      <td>102.0</td>\n",
       "    </tr>\n",
       "    <tr>\n",
       "      <th>75%</th>\n",
       "      <td>9.0</td>\n",
       "      <td>113.0</td>\n",
       "    </tr>\n",
       "    <tr>\n",
       "      <th>max</th>\n",
       "      <td>9.0</td>\n",
       "      <td>121.0</td>\n",
       "    </tr>\n",
       "  </tbody>\n",
       "</table>\n",
       "</div>"
      ],
      "text/plain": [
       "        cgpa     iq\n",
       "count  200.0  200.0\n",
       "mean     7.0  102.0\n",
       "std      2.0   12.0\n",
       "min      5.0   83.0\n",
       "25%      5.0   91.0\n",
       "50%      7.0  102.0\n",
       "75%      9.0  113.0\n",
       "max      9.0  121.0"
      ]
     },
     "execution_count": 4,
     "metadata": {},
     "output_type": "execute_result"
    }
   ],
   "source": [
    "# Statistical summary:\n",
    "df.describe().round()"
   ]
  },
  {
   "cell_type": "code",
   "execution_count": 5,
   "id": "ce86e474",
   "metadata": {},
   "outputs": [
    {
     "name": "stdout",
     "output_type": "stream",
     "text": [
      "<class 'pandas.core.frame.DataFrame'>\n",
      "RangeIndex: 200 entries, 0 to 199\n",
      "Data columns (total 2 columns):\n",
      " #   Column  Non-Null Count  Dtype  \n",
      "---  ------  --------------  -----  \n",
      " 0   cgpa    200 non-null    float64\n",
      " 1   iq      200 non-null    int64  \n",
      "dtypes: float64(1), int64(1)\n",
      "memory usage: 3.2 KB\n"
     ]
    }
   ],
   "source": [
    "# more information about the data:\n",
    "df.info()"
   ]
  },
  {
   "cell_type": "code",
   "execution_count": 6,
   "id": "97b86522",
   "metadata": {},
   "outputs": [
    {
     "data": {
      "text/plain": [
       "cgpa    0\n",
       "iq      0\n",
       "dtype: int64"
      ]
     },
     "execution_count": 6,
     "metadata": {},
     "output_type": "execute_result"
    }
   ],
   "source": [
    "# check for missing values:\n",
    "df.isnull().sum()"
   ]
  },
  {
   "cell_type": "code",
   "execution_count": 7,
   "id": "8af68535",
   "metadata": {},
   "outputs": [
    {
     "data": {
      "text/plain": [
       "7"
      ]
     },
     "execution_count": 7,
     "metadata": {},
     "output_type": "execute_result"
    }
   ],
   "source": [
    "#check for duplicated values:\n",
    "df.duplicated().sum()"
   ]
  },
  {
   "cell_type": "code",
   "execution_count": 8,
   "id": "90203963",
   "metadata": {},
   "outputs": [
    {
     "data": {
      "text/plain": [
       "0"
      ]
     },
     "execution_count": 8,
     "metadata": {},
     "output_type": "execute_result"
    }
   ],
   "source": [
    "# drop duplicated values:\n",
    "\n",
    "df.drop_duplicates(inplace=True)\n",
    "# check again for duplicated values:\n",
    "df.duplicated().sum()"
   ]
  },
  {
   "cell_type": "code",
   "execution_count": 9,
   "id": "44e5e187",
   "metadata": {},
   "outputs": [
    {
     "data": {
      "text/plain": [
       "Index(['cgpa', 'iq'], dtype='object')"
      ]
     },
     "execution_count": 9,
     "metadata": {},
     "output_type": "execute_result"
    }
   ],
   "source": [
    "df.columns"
   ]
  },
  {
   "cell_type": "code",
   "execution_count": 10,
   "id": "f6b6a1b5",
   "metadata": {},
   "outputs": [
    {
     "data": {
      "image/png": "[encoded data removed]",
      "text/plain": [
       "<Figure size 640x480 with 1 Axes>"
      ]
     },
     "metadata": {},
     "output_type": "display_data"
    }
   ],
   "source": [
    "# plotting the data\n",
    "sns.scatterplot(x=\"cgpa\",y=\"iq\", data=df)\n",
    "plt.show()"
   ]
  },
  {
   "cell_type": "markdown",
   "id": "d5152b8f",
   "metadata": {},
   "source": [
    "#### As we see above, it is clear that we should have four clusters, But to be more certain we will use the wcss and the elbow graph to show the best number of clusters we should have."
   ]
  },
  {
   "cell_type": "markdown",
   "id": "9ab29456",
   "metadata": {},
   "source": [
    "### Preprocessing for machine learning:\n"
   ]
  },
  {
   "cell_type": "code",
   "execution_count": 11,
   "id": "1eb2cf5d",
   "metadata": {},
   "outputs": [
    {
     "data": {
      "text/plain": [
       "Index(['cgpa', 'iq'], dtype='object')"
      ]
     },
     "execution_count": 11,
     "metadata": {},
     "output_type": "execute_result"
    }
   ],
   "source": [
    "df.columns"
   ]
  },
  {
   "cell_type": "code",
   "execution_count": 12,
   "id": "bf0196bc",
   "metadata": {},
   "outputs": [
    {
     "name": "stdout",
     "output_type": "stream",
     "text": [
      "[[  5.13  88.  ]\n",
      " [  5.9  113.  ]\n",
      " [  8.36  93.  ]\n",
      " [  8.27  97.  ]\n",
      " [  5.45 110.  ]\n",
      " [  5.88 109.  ]\n",
      " [  8.41  98.  ]\n",
      " [  8.8  115.  ]\n",
      " [  5.79 110.  ]\n",
      " [  8.09  94.  ]\n",
      " [  4.6   86.  ]\n",
      " [  6.1  110.  ]\n",
      " [  8.16  97.  ]\n",
      " [  5.    88.  ]\n",
      " [  5.71 108.  ]\n",
      " [  8.31  95.  ]\n",
      " [  5.5  111.  ]\n",
      " [  7.87  91.  ]\n",
      " [  6.05 111.  ]\n",
      " [  5.84 113.  ]\n",
      " [  7.47  98.  ]\n",
      " [  4.86  86.  ]\n",
      " [  7.78  92.  ]\n",
      " [  4.78  87.  ]\n",
      " [  4.96  88.  ]\n",
      " [  7.93  98.  ]\n",
      " [  4.86  87.  ]\n",
      " [  9.18 119.  ]\n",
      " [  8.04  94.  ]\n",
      " [  5.43 106.  ]\n",
      " [  8.86 117.  ]\n",
      " [  6.01 112.  ]\n",
      " [  8.83 118.  ]\n",
      " [  5.32 106.  ]\n",
      " [  7.77  96.  ]\n",
      " [  8.    96.  ]\n",
      " [  8.56 118.  ]\n",
      " [  5.91 108.  ]\n",
      " [  5.44  84.  ]\n",
      " [  5.57 113.  ]\n",
      " [  5.34  85.  ]\n",
      " [  8.43  96.  ]\n",
      " [  8.02  93.  ]\n",
      " [  5.31  86.  ]\n",
      " [  8.96 116.  ]\n",
      " [  8.78 116.  ]\n",
      " [  8.14  94.  ]\n",
      " [  6.4  108.  ]\n",
      " [  8.45 119.  ]\n",
      " [  5.67 109.  ]\n",
      " [  5.14  83.  ]\n",
      " [  4.95  86.  ]\n",
      " [  8.79 116.  ]\n",
      " [  8.12  96.  ]\n",
      " [  8.81 115.  ]\n",
      " [  6.05 108.  ]\n",
      " [  5.85 111.  ]\n",
      " [  8.88 115.  ]\n",
      " [  5.87 109.  ]\n",
      " [  9.07 117.  ]\n",
      " [  6.02 104.  ]\n",
      " [  8.34  96.  ]\n",
      " [  8.65  95.  ]\n",
      " [  8.92 118.  ]\n",
      " [  5.21  87.  ]\n",
      " [  8.75 113.  ]\n",
      " [  8.53  93.  ]\n",
      " [  4.91  85.  ]\n",
      " [  5.77 111.  ]\n",
      " [  8.29  95.  ]\n",
      " [  6.06 109.  ]\n",
      " [  8.71 116.  ]\n",
      " [  7.93  94.  ]\n",
      " [  5.28  83.  ]\n",
      " [  5.55 109.  ]\n",
      " [  8.86 118.  ]\n",
      " [  5.81 112.  ]\n",
      " [  9.3  117.  ]\n",
      " [  5.15  88.  ]\n",
      " [  8.72  92.  ]\n",
      " [  8.14  91.  ]\n",
      " [  9.01 121.  ]\n",
      " [  5.47 111.  ]\n",
      " [  4.9   85.  ]\n",
      " [  8.97 116.  ]\n",
      " [  4.89  88.  ]\n",
      " [  9.   117.  ]\n",
      " [  5.74 109.  ]\n",
      " [  8.76 117.  ]\n",
      " [  5.8  108.  ]\n",
      " [  8.78 117.  ]\n",
      " [  9.23 114.  ]\n",
      " [  8.2   92.  ]\n",
      " [  5.05  86.  ]\n",
      " [  8.67  95.  ]\n",
      " [  8.18  94.  ]\n",
      " [  9.03 118.  ]\n",
      " [  8.61  95.  ]\n",
      " [  4.98  91.  ]\n",
      " [  9.13 118.  ]\n",
      " [  5.88 110.  ]\n",
      " [  5.01  86.  ]\n",
      " [  4.95  88.  ]\n",
      " [  8.91 119.  ]\n",
      " [  4.96  89.  ]\n",
      " [  4.85  86.  ]\n",
      " [  7.99  92.  ]\n",
      " [  4.76  90.  ]\n",
      " [  8.98 118.  ]\n",
      " [  8.08  94.  ]\n",
      " [  5.91 109.  ]\n",
      " [  5.67 111.  ]\n",
      " [  8.26  91.  ]\n",
      " [  8.89 118.  ]\n",
      " [  8.25  95.  ]\n",
      " [  5.74 108.  ]\n",
      " [  8.97 117.  ]\n",
      " [  4.98  87.  ]\n",
      " [  5.69 109.  ]\n",
      " [  8.4   93.  ]\n",
      " [  8.72 119.  ]\n",
      " [  7.84  97.  ]\n",
      " [  5.2   85.  ]\n",
      " [  8.08  98.  ]\n",
      " [  6.05 109.  ]\n",
      " [  5.05  87.  ]\n",
      " [  8.25  96.  ]\n",
      " [  8.3   93.  ]\n",
      " [  6.14 111.  ]\n",
      " [  5.01  83.  ]\n",
      " [  4.77  86.  ]\n",
      " [  5.74 112.  ]\n",
      " [  8.93 118.  ]\n",
      " [  5.94 109.  ]\n",
      " [  4.68  87.  ]\n",
      " [  7.9  100.  ]\n",
      " [  7.97  96.  ]\n",
      " [  8.21  94.  ]\n",
      " [  4.81  85.  ]\n",
      " [  5.86 111.  ]\n",
      " [  5.03  87.  ]\n",
      " [  8.58 118.  ]\n",
      " [  5.32  88.  ]\n",
      " [  8.94 117.  ]\n",
      " [  6.38 107.  ]\n",
      " [  4.86  88.  ]\n",
      " [  8.6  117.  ]\n",
      " [  4.89  85.  ]\n",
      " [  8.77 117.  ]\n",
      " [  8.81 116.  ]\n",
      " [  4.88  86.  ]\n",
      " [  8.23  95.  ]\n",
      " [  6.61 111.  ]\n",
      " [  8.54 118.  ]\n",
      " [  6.04 110.  ]\n",
      " [  8.35  93.  ]\n",
      " [  8.97 119.  ]\n",
      " [  6.24 108.  ]\n",
      " [  8.33  92.  ]\n",
      " [  8.91 117.  ]\n",
      " [  4.67  86.  ]\n",
      " [  6.1  109.  ]\n",
      " [  5.15  85.  ]\n",
      " [  4.97  88.  ]\n",
      " [  8.68 119.  ]\n",
      " [  9.06 120.  ]\n",
      " [  5.8  110.  ]\n",
      " [  8.9  117.  ]\n",
      " [  4.87  88.  ]\n",
      " [  5.2   89.  ]\n",
      " [  8.46  98.  ]\n",
      " [  8.94 115.  ]\n",
      " [  5.87 108.  ]\n",
      " [  4.99  88.  ]\n",
      " [  8.91 115.  ]\n",
      " [  5.97 108.  ]\n",
      " [  6.17 110.  ]\n",
      " [  6.01 107.  ]\n",
      " [  7.89  96.  ]\n",
      " [  4.79  88.  ]\n",
      " [  7.91  93.  ]\n",
      " [  8.23  91.  ]\n",
      " [  8.95 116.  ]\n",
      " [  6.33 111.  ]\n",
      " [  8.44  94.  ]\n",
      " [  4.76  89.  ]\n",
      " [  4.78  85.  ]\n",
      " [  8.79  96.  ]\n",
      " [  4.68  89.  ]\n",
      " [  8.57 118.  ]\n",
      " [  5.85 112.  ]\n",
      " [  6.23 108.  ]\n",
      " [  8.82 117.  ]]\n"
     ]
    }
   ],
   "source": [
    "# creating the \"x\" value that will be used for our model:\n",
    "x = df.values\n",
    "print(x)"
   ]
  },
  {
   "cell_type": "markdown",
   "id": "2e559f1b",
   "metadata": {},
   "source": [
    "### choosing number of clusters:"
   ]
  },
  {
   "cell_type": "code",
   "execution_count": 13,
   "id": "a2f8c3b5",
   "metadata": {},
   "outputs": [
    {
     "name": "stderr",
     "output_type": "stream",
     "text": [
      "C:\\Users\\User\\anaconda4new\\lib\\site-packages\\sklearn\\cluster\\_kmeans.py:1036: UserWarning: KMeans is known to have a memory leak on Windows with MKL, when there are less chunks than available threads. You can avoid it by setting the environment variable OMP_NUM_THREADS=1.\n",
      "  warnings.warn(\n"
     ]
    }
   ],
   "source": [
    "# we will use the WCSS to choose the right number of clusters:\n",
    "# we will choose the number of clusters with the lowest possible \"WCSS\" value.\n",
    "\n",
    "wcss = []\n",
    "\n",
    "for i in range(1,11):\n",
    "    kmeans = KMeans(n_clusters=i, init=\"k-means++\", random_state=42)\n",
    "    kmeans.fit(x)\n",
    "    \n",
    "    wcss.append(kmeans.inertia_)"
   ]
  },
  {
   "cell_type": "code",
   "execution_count": 14,
   "id": "6400f753",
   "metadata": {},
   "outputs": [
    {
     "data": {
      "image/png": "[encoded data removed]",
      "text/plain": [
       "<Figure size 640x480 with 1 Axes>"
      ]
     },
     "metadata": {},
     "output_type": "display_data"
    }
   ],
   "source": [
    "# Plotting the elbow graph:\n",
    "sns.set()\n",
    "plt.plot(range(1,11), wcss, marker=\"x\")\n",
    "\n",
    "plt.xlabel(\"number of clusters\")\n",
    "plt.ylabel(\"wcss value\");"
   ]
  },
  {
   "cell_type": "markdown",
   "id": "18272b2a",
   "metadata": {},
   "source": [
    "#### Based on the elbow graph above, the best number of clusters is also (4)."
   ]
  },
  {
   "cell_type": "markdown",
   "id": "1ac9f82a",
   "metadata": {},
   "source": [
    "### Training the model:"
   ]
  },
  {
   "cell_type": "code",
   "execution_count": 15,
   "id": "a613d94c",
   "metadata": {},
   "outputs": [
    {
     "name": "stdout",
     "output_type": "stream",
     "text": [
      "[3 0 1 1 0 0 1 2 0 1 3 0 1 3 0 1 0 1 0 0 1 3 1 3 3 1 3 2 1 0 2 0 2 0 1 1 2\n",
      " 0 3 0 3 1 1 3 2 2 1 0 2 0 3 3 2 1 2 0 0 2 0 2 0 1 1 2 3 2 1 3 0 1 0 2 1 3\n",
      " 0 2 0 2 3 1 1 2 0 3 2 3 2 0 2 0 2 2 1 3 1 1 2 1 3 2 0 3 3 2 3 3 1 3 2 1 0\n",
      " 0 1 2 1 0 2 3 0 1 2 1 3 1 0 3 1 1 0 3 3 0 2 0 3 1 1 1 3 0 3 2 3 2 0 3 2 3\n",
      " 2 2 3 1 0 2 0 1 2 0 1 2 3 0 3 3 2 2 0 2 3 3 1 2 0 3 2 0 0 0 1 3 1 1 2 0 1\n",
      " 3 3 1 3 2 0 0 2]\n"
     ]
    }
   ],
   "source": [
    "# we will create a model that will create four clusters:\n",
    "\n",
    "kmeans = KMeans(n_clusters=4, init=\"k-means++\", random_state=0)\n",
    "\n",
    "\n",
    "# we also need to return a label for each data point based on their clusters\n",
    "y = kmeans.fit_predict(x)\n",
    "\n",
    "print(y)"
   ]
  },
  {
   "cell_type": "code",
   "execution_count": 16,
   "id": "c89430ac",
   "metadata": {},
   "outputs": [
    {
     "data": {
      "text/html": [
       "<div>\n",
       "<style scoped>\n",
       "    .dataframe tbody tr th:only-of-type {\n",
       "        vertical-align: middle;\n",
       "    }\n",
       "\n",
       "    .dataframe tbody tr th {\n",
       "        vertical-align: top;\n",
       "    }\n",
       "\n",
       "    .dataframe thead th {\n",
       "        text-align: right;\n",
       "    }\n",
       "</style>\n",
       "<table border=\"1\" class=\"dataframe\">\n",
       "  <thead>\n",
       "    <tr style=\"text-align: right;\">\n",
       "      <th></th>\n",
       "      <th>cgpa</th>\n",
       "      <th>iq</th>\n",
       "      <th>clusters</th>\n",
       "    </tr>\n",
       "  </thead>\n",
       "  <tbody>\n",
       "    <tr>\n",
       "      <th>0</th>\n",
       "      <td>5.13</td>\n",
       "      <td>88</td>\n",
       "      <td>3</td>\n",
       "    </tr>\n",
       "    <tr>\n",
       "      <th>1</th>\n",
       "      <td>5.90</td>\n",
       "      <td>113</td>\n",
       "      <td>0</td>\n",
       "    </tr>\n",
       "    <tr>\n",
       "      <th>2</th>\n",
       "      <td>8.36</td>\n",
       "      <td>93</td>\n",
       "      <td>1</td>\n",
       "    </tr>\n",
       "    <tr>\n",
       "      <th>3</th>\n",
       "      <td>8.27</td>\n",
       "      <td>97</td>\n",
       "      <td>1</td>\n",
       "    </tr>\n",
       "    <tr>\n",
       "      <th>4</th>\n",
       "      <td>5.45</td>\n",
       "      <td>110</td>\n",
       "      <td>0</td>\n",
       "    </tr>\n",
       "  </tbody>\n",
       "</table>\n",
       "</div>"
      ],
      "text/plain": [
       "   cgpa   iq  clusters\n",
       "0  5.13   88         3\n",
       "1  5.90  113         0\n",
       "2  8.36   93         1\n",
       "3  8.27   97         1\n",
       "4  5.45  110         0"
      ]
     },
     "execution_count": 16,
     "metadata": {},
     "output_type": "execute_result"
    }
   ],
   "source": [
    "# adding the clusters to our dataframe:\n",
    "\n",
    "df[\"clusters\"] = y\n",
    "\n",
    "df.head()"
   ]
  },
  {
   "cell_type": "markdown",
   "id": "d86d2a1e",
   "metadata": {},
   "source": [
    "### Visualizing the clusters:"
   ]
  },
  {
   "cell_type": "code",
   "execution_count": 17,
   "id": "76e64040",
   "metadata": {},
   "outputs": [
    {
     "data": {
      "image/png": "[encoded data removed]",
      "text/plain": [
       "<Figure size 800x800 with 1 Axes>"
      ]
     },
     "metadata": {},
     "output_type": "display_data"
    }
   ],
   "source": [
    "# first: plot all the data point and all clusters:\n",
    "\n",
    "plt.figure(figsize=(8,8))\n",
    "\n",
    "plt.scatter(x[y==0,0], x[y==0,1], s=50, c=\"red\", label=\"Cluster 1\")\n",
    "plt.scatter(x[y==1,0], x[y==1,1], s=50, c=\"limegreen\", label=\"Cluster 2\")\n",
    "plt.scatter(x[y==2,0], x[y==2,1], s=50, c=\"gold\", label=\"Cluster 3\")\n",
    "plt.scatter(x[y==3,0], x[y==3,1], s=50, c=\"navy\", label=\"Cluster 4\")\n",
    "\n",
    "\n",
    "# second: plot the centroids points:\n",
    "\n",
    "plt.scatter(kmeans.cluster_centers_[:,0],kmeans.cluster_centers_[:,1], s=70, c=\"black\", label=\"Centroids\",\n",
    "            marker=\"P\")\n",
    "\n",
    "plt.title(\"Student Groups\")\n",
    "plt.xlabel(\"cgpa\")\n",
    "plt.ylabel(\"iq\")\n",
    "plt.legend()\n",
    "plt.show()"
   ]
  },
  {
   "cell_type": "code",
   "execution_count": null,
   "id": "36a56301",
   "metadata": {},
   "outputs": [],
   "source": []
  }
 ],
 "metadata": {
  "kernelspec": {
   "display_name": "Python 3 (ipykernel)",
   "language": "python",
   "name": "python3"
  },
  "language_info": {
   "codemirror_mode": {
    "name": "ipython",
    "version": 3
   },
   "file_extension": ".py",
   "mimetype": "text/x-python",
   "name": "python",
   "nbconvert_exporter": "python",
   "pygments_lexer": "ipython3",
   "version": "3.9.13"
  }
 },
 "nbformat": 4,
 "nbformat_minor": 5
}
